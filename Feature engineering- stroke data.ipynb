{
 "cells": [
  {
   "cell_type": "code",
   "execution_count": 1,
   "metadata": {},
   "outputs": [],
   "source": [
    "#importing important libraries\n",
    "import pandas as pd\n",
    "import matplotlib.pyplot as plt\n",
    "import seaborn as sns\n",
    "from sklearn.model_selection import train_test_split"
   ]
  },
  {
   "cell_type": "code",
   "execution_count": 2,
   "metadata": {},
   "outputs": [],
   "source": [
    "#reading data\n",
    "h_stroke = pd.read_csv('stroke_prediction.csv')"
   ]
  },
  {
   "cell_type": "code",
   "execution_count": 3,
   "metadata": {},
   "outputs": [
    {
     "data": {
      "text/html": [
       "<div>\n",
       "<style scoped>\n",
       "    .dataframe tbody tr th:only-of-type {\n",
       "        vertical-align: middle;\n",
       "    }\n",
       "\n",
       "    .dataframe tbody tr th {\n",
       "        vertical-align: top;\n",
       "    }\n",
       "\n",
       "    .dataframe thead th {\n",
       "        text-align: right;\n",
       "    }\n",
       "</style>\n",
       "<table border=\"1\" class=\"dataframe\">\n",
       "  <thead>\n",
       "    <tr style=\"text-align: right;\">\n",
       "      <th></th>\n",
       "      <th>id</th>\n",
       "      <th>gender</th>\n",
       "      <th>age</th>\n",
       "      <th>hypertension</th>\n",
       "      <th>heart_disease</th>\n",
       "      <th>ever_married</th>\n",
       "      <th>work_type</th>\n",
       "      <th>Residence_type</th>\n",
       "      <th>avg_glucose_level</th>\n",
       "      <th>bmi</th>\n",
       "      <th>smoking_status</th>\n",
       "      <th>stroke</th>\n",
       "    </tr>\n",
       "  </thead>\n",
       "  <tbody>\n",
       "    <tr>\n",
       "      <th>0</th>\n",
       "      <td>30669</td>\n",
       "      <td>Male</td>\n",
       "      <td>3.0</td>\n",
       "      <td>0</td>\n",
       "      <td>0</td>\n",
       "      <td>No</td>\n",
       "      <td>children</td>\n",
       "      <td>Rural</td>\n",
       "      <td>95.12</td>\n",
       "      <td>18.0</td>\n",
       "      <td>NaN</td>\n",
       "      <td>0</td>\n",
       "    </tr>\n",
       "    <tr>\n",
       "      <th>1</th>\n",
       "      <td>30468</td>\n",
       "      <td>Male</td>\n",
       "      <td>58.0</td>\n",
       "      <td>1</td>\n",
       "      <td>0</td>\n",
       "      <td>Yes</td>\n",
       "      <td>Private</td>\n",
       "      <td>Urban</td>\n",
       "      <td>87.96</td>\n",
       "      <td>39.2</td>\n",
       "      <td>never smoked</td>\n",
       "      <td>0</td>\n",
       "    </tr>\n",
       "    <tr>\n",
       "      <th>2</th>\n",
       "      <td>16523</td>\n",
       "      <td>Female</td>\n",
       "      <td>8.0</td>\n",
       "      <td>0</td>\n",
       "      <td>0</td>\n",
       "      <td>No</td>\n",
       "      <td>Private</td>\n",
       "      <td>Urban</td>\n",
       "      <td>110.89</td>\n",
       "      <td>17.6</td>\n",
       "      <td>NaN</td>\n",
       "      <td>0</td>\n",
       "    </tr>\n",
       "    <tr>\n",
       "      <th>3</th>\n",
       "      <td>56543</td>\n",
       "      <td>Female</td>\n",
       "      <td>70.0</td>\n",
       "      <td>0</td>\n",
       "      <td>0</td>\n",
       "      <td>Yes</td>\n",
       "      <td>Private</td>\n",
       "      <td>Rural</td>\n",
       "      <td>69.04</td>\n",
       "      <td>35.9</td>\n",
       "      <td>formerly smoked</td>\n",
       "      <td>0</td>\n",
       "    </tr>\n",
       "    <tr>\n",
       "      <th>4</th>\n",
       "      <td>46136</td>\n",
       "      <td>Male</td>\n",
       "      <td>14.0</td>\n",
       "      <td>0</td>\n",
       "      <td>0</td>\n",
       "      <td>No</td>\n",
       "      <td>Never_worked</td>\n",
       "      <td>Rural</td>\n",
       "      <td>161.28</td>\n",
       "      <td>19.1</td>\n",
       "      <td>NaN</td>\n",
       "      <td>0</td>\n",
       "    </tr>\n",
       "  </tbody>\n",
       "</table>\n",
       "</div>"
      ],
      "text/plain": [
       "      id  gender   age  hypertension  heart_disease ever_married  \\\n",
       "0  30669    Male   3.0             0              0           No   \n",
       "1  30468    Male  58.0             1              0          Yes   \n",
       "2  16523  Female   8.0             0              0           No   \n",
       "3  56543  Female  70.0             0              0          Yes   \n",
       "4  46136    Male  14.0             0              0           No   \n",
       "\n",
       "      work_type Residence_type  avg_glucose_level   bmi   smoking_status  \\\n",
       "0      children          Rural              95.12  18.0              NaN   \n",
       "1       Private          Urban              87.96  39.2     never smoked   \n",
       "2       Private          Urban             110.89  17.6              NaN   \n",
       "3       Private          Rural              69.04  35.9  formerly smoked   \n",
       "4  Never_worked          Rural             161.28  19.1              NaN   \n",
       "\n",
       "   stroke  \n",
       "0       0  \n",
       "1       0  \n",
       "2       0  \n",
       "3       0  \n",
       "4       0  "
      ]
     },
     "execution_count": 3,
     "metadata": {},
     "output_type": "execute_result"
    }
   ],
   "source": [
    "h_stroke.head()"
   ]
  },
  {
   "cell_type": "code",
   "execution_count": 5,
   "metadata": {},
   "outputs": [],
   "source": [
    "df = h_stroke"
   ]
  },
  {
   "cell_type": "markdown",
   "metadata": {},
   "source": [
    "### Feature Engineering"
   ]
  },
  {
   "cell_type": "code",
   "execution_count": 6,
   "metadata": {},
   "outputs": [],
   "source": [
    "# Binning based on ranges for avg_gulcose_level\n",
    "bins = [0,140,200,400]\n",
    "labels = ['normal','pre-diabetic','diabetic']\n",
    "df['is_diabetic'] = pd.cut(df['avg_glucose_level'], bins= bins, labels=labels)"
   ]
  },
  {
   "cell_type": "code",
   "execution_count": 8,
   "metadata": {},
   "outputs": [],
   "source": [
    "#  Binning based on ranges for bmi\n",
    "bins = [0,18.5,25,30,150]\n",
    "labels = ['underweight','healthy','overweight','obese']\n",
    "df['bmi_status'] = pd.cut(df['bmi'], bins= bins, labels=labels)"
   ]
  },
  {
   "cell_type": "code",
   "execution_count": 10,
   "metadata": {},
   "outputs": [],
   "source": [
    "#Binning based on range of age\n",
    "bins = [0,30,50,70,100]\n",
    "labels = ['young','moderate','old','very_old']\n",
    "df['age_range'] = pd.cut(df['age'], bins= bins, labels=labels)"
   ]
  },
  {
   "cell_type": "code",
   "execution_count": 11,
   "metadata": {},
   "outputs": [],
   "source": [
    "#Summing up age,bmi and avg_gulcose level columns\n",
    "df['age_bmi_gulcose'] = df['age']+ df['bmi']+ df['avg_glucose_level']"
   ]
  },
  {
   "cell_type": "code",
   "execution_count": 13,
   "metadata": {},
   "outputs": [],
   "source": [
    "#Finding ratio of avg_glucose_level and age and creating new category\n",
    "df['avg_glucose_level_age_ratio'] = df['avg_glucose_level']/df['age']"
   ]
  },
  {
   "cell_type": "code",
   "execution_count": 14,
   "metadata": {},
   "outputs": [],
   "source": [
    "#Finding ratio of bmi and age and creating new category\n",
    "df['bmi_age_ratio'] = df['bmi']/df['age']"
   ]
  },
  {
   "cell_type": "code",
   "execution_count": 15,
   "metadata": {},
   "outputs": [],
   "source": [
    "#Creating new category for person with diabetic and having obesity\n",
    "a=(df[\"is_diabetic\"]==\"diabetic\")\n",
    "b=(df[\"bmi_status\"]==\"obese\") \n",
    "df['dia_obese'] = a&b"
   ]
  },
  {
   "cell_type": "code",
   "execution_count": 16,
   "metadata": {},
   "outputs": [],
   "source": [
    "#Creating new category for person with diabetic and over-weight\n",
    "c=(df[\"is_diabetic\"]==\"diabetic\")\n",
    "d=(df[\"bmi_status\"]==\"overweight\") \n",
    "df['dia_overweight'] = c & d"
   ]
  },
  {
   "cell_type": "code",
   "execution_count": 17,
   "metadata": {},
   "outputs": [],
   "source": [
    "#Creating new category for person with diabetic and heaalthy\n",
    "e=(df[\"is_diabetic\"]==\"diabetic\")\n",
    "f=(df[\"bmi_status\"]==\"healthy\") \n",
    "df['dia_healthy'] = e & f"
   ]
  },
  {
   "cell_type": "code",
   "execution_count": 18,
   "metadata": {},
   "outputs": [],
   "source": [
    "#Creating new category for person with pre-diabetic and obese\n",
    "e=(df[\"is_diabetic\"]==\"pre-diabetic\")\n",
    "f=(df[\"bmi_status\"]==\"obese\") \n",
    "df['predia_obese'] = e & f"
   ]
  },
  {
   "cell_type": "code",
   "execution_count": 19,
   "metadata": {},
   "outputs": [],
   "source": [
    "#Creating new category for person with pre-diabetic and overweight\n",
    "e=(df[\"is_diabetic\"]==\"pre-diabetic\")\n",
    "f=(df[\"bmi_status\"]==\"overweight\") \n",
    "df['predia_overweight'] = e & f"
   ]
  },
  {
   "cell_type": "code",
   "execution_count": 20,
   "metadata": {},
   "outputs": [],
   "source": [
    "#Creating new category for person with pre-diabetic and healthy\n",
    "e=(df[\"is_diabetic\"]==\"pre-diabetic\")\n",
    "f=(df[\"bmi_status\"]==\"healthy\") \n",
    "df['predia_healthy'] = e & f"
   ]
  },
  {
   "cell_type": "code",
   "execution_count": 21,
   "metadata": {},
   "outputs": [],
   "source": [
    "#Creating new category for person working in private sector and diabetic\n",
    "\n",
    "a = (df['work_type'] == 'Private')\n",
    "b = (df[\"is_diabetic\"]==\"diabetic\")\n",
    "df['private_diabetic'] = a & b"
   ]
  },
  {
   "cell_type": "code",
   "execution_count": 22,
   "metadata": {},
   "outputs": [],
   "source": [
    "#Creating new category for person working in private sector and pre-diabetic\n",
    "\n",
    "a = (df['work_type'] == 'Private')\n",
    "b = (df[\"is_diabetic\"]==\"pre-diabetic\")\n",
    "df['private_prediabetic'] = a & b"
   ]
  },
  {
   "cell_type": "code",
   "execution_count": 23,
   "metadata": {},
   "outputs": [],
   "source": [
    "#Creating new feature for person is married and diabetic\n",
    "\n",
    "a = (df['ever_married'] == 'Yes')\n",
    "b = (df[\"is_diabetic\"]==\"diabetic\")\n",
    "df['married_diabetic'] = a & b"
   ]
  },
  {
   "cell_type": "code",
   "execution_count": 24,
   "metadata": {},
   "outputs": [],
   "source": [
    "#Creating new feature for person is married and pre-diabetic\n",
    "\n",
    "a = (df['ever_married'] == 'Yes')\n",
    "b = (df[\"is_diabetic\"]==\"pre-diabetic\")\n",
    "df['married_prediabetic'] = a & b"
   ]
  },
  {
   "cell_type": "code",
   "execution_count": 25,
   "metadata": {},
   "outputs": [
    {
     "name": "stderr",
     "output_type": "stream",
     "text": [
      "C:\\Users\\pravar\\anaconda3\\lib\\site-packages\\pandas\\core\\ops\\array_ops.py:253: FutureWarning: elementwise comparison failed; returning scalar instead, but in the future will perform elementwise comparison\n",
      "  res_values = method(rvalues)\n"
     ]
    }
   ],
   "source": [
    "#Creating new feature for person is married and having hypertension\n",
    "\n",
    "a = (df['ever_married'] == 'Yes')\n",
    "b= (df['hypertension'] == '1')\n",
    "df['married_hypertension'] = a & b"
   ]
  },
  {
   "cell_type": "code",
   "execution_count": 26,
   "metadata": {},
   "outputs": [],
   "source": [
    "#Creating new feature for person is diabetic and having hypertension\n",
    "\n",
    "a = (df['hypertension'] == '1')\n",
    "b= (df[\"is_diabetic\"]==\"diabetic\")\n",
    "df['diabetic_hyper'] = a & b"
   ]
  },
  {
   "cell_type": "code",
   "execution_count": 27,
   "metadata": {},
   "outputs": [],
   "source": [
    "#Creating new feature for person is pre-diabetic and having hypertension\n",
    "\n",
    "a = (df['hypertension'] == '1')\n",
    "b= (df[\"is_diabetic\"]==\"pre-diabetic\")\n",
    "df['married_hyper'] = a & b"
   ]
  },
  {
   "cell_type": "code",
   "execution_count": 28,
   "metadata": {},
   "outputs": [],
   "source": [
    "#combining different features\n",
    "\n",
    "a = (df['dia_obese'] == '1')\n",
    "b = (df['heart_disease'] == '1') \n",
    "df['dia_obese_heart'] = a & b"
   ]
  },
  {
   "cell_type": "code",
   "execution_count": 29,
   "metadata": {},
   "outputs": [],
   "source": [
    "a = (df['dia_overweight'] == '1')\n",
    "b = (df['heart_disease'] == '1') \n",
    "df['dia_overweight_heart'] = a & b"
   ]
  },
  {
   "cell_type": "code",
   "execution_count": 30,
   "metadata": {},
   "outputs": [],
   "source": [
    "\n",
    "a = (df['dia_healthy'] == '1')\n",
    "b = (df['heart_disease'] == '1') \n",
    "df['dia_healthy_heart'] = a & b"
   ]
  },
  {
   "cell_type": "code",
   "execution_count": 31,
   "metadata": {},
   "outputs": [],
   "source": [
    "a = (df['predia_obese'] == '1')\n",
    "b = (df['heart_disease'] == '1') \n",
    "df['predia_obese_heart'] = a & b"
   ]
  },
  {
   "cell_type": "code",
   "execution_count": 32,
   "metadata": {},
   "outputs": [],
   "source": [
    "a = (df['predia_overweight'] == '1')\n",
    "b = (df['heart_disease'] == '1') \n",
    "df['predia_overweight_heart'] = a & b"
   ]
  },
  {
   "cell_type": "code",
   "execution_count": 33,
   "metadata": {},
   "outputs": [],
   "source": [
    "a = (df['predia_healthy'] == '1')\n",
    "b = (df['heart_disease'] == '1') \n",
    "df['predia_healthy_heart'] = a & b"
   ]
  },
  {
   "cell_type": "code",
   "execution_count": 34,
   "metadata": {},
   "outputs": [],
   "source": [
    "a = (df['private_diabetic'] == '1')\n",
    "b = (df['heart_disease'] == '1') \n",
    "df['private_diabetic_heart'] = a & b"
   ]
  },
  {
   "cell_type": "code",
   "execution_count": 35,
   "metadata": {},
   "outputs": [],
   "source": [
    "\n",
    "a = (df['private_prediabetic'] == '1')\n",
    "b = (df['heart_disease'] == '1') \n",
    "df['private_prediabetic_heart'] = a & b"
   ]
  },
  {
   "cell_type": "code",
   "execution_count": 36,
   "metadata": {},
   "outputs": [],
   "source": [
    "a = (df['married_diabetic'] == '1')\n",
    "b = (df['heart_disease'] == '1') \n",
    "df['married_diabetic_heart'] = a & b"
   ]
  },
  {
   "cell_type": "code",
   "execution_count": 37,
   "metadata": {},
   "outputs": [],
   "source": [
    "a = (df['married_hypertension'] == '1')\n",
    "b = (df['heart_disease'] == '1') \n",
    "df['married_hypertension_heart'] = a & b"
   ]
  },
  {
   "cell_type": "code",
   "execution_count": 38,
   "metadata": {},
   "outputs": [],
   "source": [
    "a = (df['diabetic_hyper'] == '1')\n",
    "b = (df['heart_disease'] == '1') \n",
    "df['diabetic_hyper_heart'] = a & b"
   ]
  },
  {
   "cell_type": "code",
   "execution_count": 39,
   "metadata": {},
   "outputs": [],
   "source": [
    "a = (df['married_hyper'] == '1')\n",
    "b = (df['heart_disease'] == '1') \n",
    "df['married_hyper_heart'] = a & b"
   ]
  },
  {
   "cell_type": "code",
   "execution_count": 40,
   "metadata": {},
   "outputs": [],
   "source": [
    "a = (df['age_range'] == 'very_old')\n",
    "b = (df['heart_disease'] == '1')\n",
    "df['veryold_heart'] = a & b"
   ]
  },
  {
   "cell_type": "code",
   "execution_count": 41,
   "metadata": {},
   "outputs": [],
   "source": [
    "a = (df['age_range'] == 'old')\n",
    "b = (df['heart_disease'] == '1')\n",
    "df['old_heart'] = a & b"
   ]
  },
  {
   "cell_type": "code",
   "execution_count": 42,
   "metadata": {},
   "outputs": [],
   "source": [
    "a = (df['age_range'] == 'old')\n",
    "b = (df['is_diabetic'] == 'diabetic')\n",
    "df['old_diabetic'] = a & b"
   ]
  },
  {
   "cell_type": "code",
   "execution_count": 43,
   "metadata": {},
   "outputs": [],
   "source": [
    "a = (df['age_range'] == 'very-old')\n",
    "b = (df['is_diabetic'] == 'diabetic')\n",
    "df['veryold_diabetic'] = a & b"
   ]
  },
  {
   "cell_type": "code",
   "execution_count": 44,
   "metadata": {},
   "outputs": [],
   "source": [
    "a = (df['age_range'] == 'old')\n",
    "b = (df['is_diabetic'] == 'pre-diabetic')\n",
    "df['old_prediabetic'] = a & b"
   ]
  },
  {
   "cell_type": "code",
   "execution_count": 45,
   "metadata": {},
   "outputs": [],
   "source": [
    "a = (df['age_range'] == 'very-old')\n",
    "b = (df['is_diabetic'] == 'pre-diabetic')\n",
    "df['veryold_prediabetic'] = a & b"
   ]
  },
  {
   "cell_type": "code",
   "execution_count": 46,
   "metadata": {},
   "outputs": [],
   "source": [
    "a = (df['veryold_prediabetic'] == '1')\n",
    "b = (df['bmi_status'] == 'obese')\n",
    "df['veryold_prediabetic_obese'] = a & b"
   ]
  },
  {
   "cell_type": "code",
   "execution_count": 47,
   "metadata": {},
   "outputs": [],
   "source": [
    "a = (df['veryold_prediabetic'] == '1')\n",
    "b = (df['bmi_status'] == 'overweight')\n",
    "df['veryold_prediabetic_overweight'] = a & b"
   ]
  },
  {
   "cell_type": "code",
   "execution_count": 48,
   "metadata": {},
   "outputs": [],
   "source": [
    "a = (df['veryold_diabetic'] == '1')\n",
    "b = (df['bmi_status'] == 'obese')\n",
    "df['veryold_diabetic_obese'] = a & b"
   ]
  },
  {
   "cell_type": "code",
   "execution_count": 49,
   "metadata": {},
   "outputs": [],
   "source": [
    "a = (df['veryold_diabetic'] == '1')\n",
    "b = (df['bmi_status'] == 'overweight')\n",
    "df['veryold_diabetic_overweight'] = a & b"
   ]
  },
  {
   "cell_type": "code",
   "execution_count": 50,
   "metadata": {},
   "outputs": [],
   "source": [
    "df = df.replace(True, 1)\n",
    "df = df.replace(False, 0)"
   ]
  },
  {
   "cell_type": "markdown",
   "metadata": {},
   "source": [
    "### Converting into dummies"
   ]
  },
  {
   "cell_type": "code",
   "execution_count": 51,
   "metadata": {},
   "outputs": [],
   "source": [
    "df = pd.get_dummies(df,columns = ['gender','ever_married','work_type','Residence_type','smoking_status','is_diabetic','bmi_status','age_range'],drop_first = True)"
   ]
  },
  {
   "cell_type": "code",
   "execution_count": 52,
   "metadata": {},
   "outputs": [
    {
     "data": {
      "text/html": [
       "<div>\n",
       "<style scoped>\n",
       "    .dataframe tbody tr th:only-of-type {\n",
       "        vertical-align: middle;\n",
       "    }\n",
       "\n",
       "    .dataframe tbody tr th {\n",
       "        vertical-align: top;\n",
       "    }\n",
       "\n",
       "    .dataframe thead th {\n",
       "        text-align: right;\n",
       "    }\n",
       "</style>\n",
       "<table border=\"1\" class=\"dataframe\">\n",
       "  <thead>\n",
       "    <tr style=\"text-align: right;\">\n",
       "      <th></th>\n",
       "      <th>id</th>\n",
       "      <th>age</th>\n",
       "      <th>hypertension</th>\n",
       "      <th>heart_disease</th>\n",
       "      <th>avg_glucose_level</th>\n",
       "      <th>bmi</th>\n",
       "      <th>stroke</th>\n",
       "      <th>age_bmi_gulcose</th>\n",
       "      <th>avg_glucose_level_age_ratio</th>\n",
       "      <th>bmi_age_ratio</th>\n",
       "      <th>...</th>\n",
       "      <th>smoking_status_never smoked</th>\n",
       "      <th>smoking_status_smokes</th>\n",
       "      <th>is_diabetic_pre-diabetic</th>\n",
       "      <th>is_diabetic_diabetic</th>\n",
       "      <th>bmi_status_healthy</th>\n",
       "      <th>bmi_status_overweight</th>\n",
       "      <th>bmi_status_obese</th>\n",
       "      <th>age_range_moderate</th>\n",
       "      <th>age_range_old</th>\n",
       "      <th>age_range_very_old</th>\n",
       "    </tr>\n",
       "  </thead>\n",
       "  <tbody>\n",
       "    <tr>\n",
       "      <th>0</th>\n",
       "      <td>30669</td>\n",
       "      <td>3.0</td>\n",
       "      <td>0</td>\n",
       "      <td>0</td>\n",
       "      <td>95.12</td>\n",
       "      <td>18.0</td>\n",
       "      <td>0</td>\n",
       "      <td>116.12</td>\n",
       "      <td>31.706667</td>\n",
       "      <td>6.000000</td>\n",
       "      <td>...</td>\n",
       "      <td>0</td>\n",
       "      <td>0</td>\n",
       "      <td>0</td>\n",
       "      <td>0</td>\n",
       "      <td>0</td>\n",
       "      <td>0</td>\n",
       "      <td>0</td>\n",
       "      <td>0</td>\n",
       "      <td>0</td>\n",
       "      <td>0</td>\n",
       "    </tr>\n",
       "    <tr>\n",
       "      <th>1</th>\n",
       "      <td>30468</td>\n",
       "      <td>58.0</td>\n",
       "      <td>1</td>\n",
       "      <td>0</td>\n",
       "      <td>87.96</td>\n",
       "      <td>39.2</td>\n",
       "      <td>0</td>\n",
       "      <td>185.16</td>\n",
       "      <td>1.516552</td>\n",
       "      <td>0.675862</td>\n",
       "      <td>...</td>\n",
       "      <td>1</td>\n",
       "      <td>0</td>\n",
       "      <td>0</td>\n",
       "      <td>0</td>\n",
       "      <td>0</td>\n",
       "      <td>0</td>\n",
       "      <td>1</td>\n",
       "      <td>0</td>\n",
       "      <td>1</td>\n",
       "      <td>0</td>\n",
       "    </tr>\n",
       "    <tr>\n",
       "      <th>2</th>\n",
       "      <td>16523</td>\n",
       "      <td>8.0</td>\n",
       "      <td>0</td>\n",
       "      <td>0</td>\n",
       "      <td>110.89</td>\n",
       "      <td>17.6</td>\n",
       "      <td>0</td>\n",
       "      <td>136.49</td>\n",
       "      <td>13.861250</td>\n",
       "      <td>2.200000</td>\n",
       "      <td>...</td>\n",
       "      <td>0</td>\n",
       "      <td>0</td>\n",
       "      <td>0</td>\n",
       "      <td>0</td>\n",
       "      <td>0</td>\n",
       "      <td>0</td>\n",
       "      <td>0</td>\n",
       "      <td>0</td>\n",
       "      <td>0</td>\n",
       "      <td>0</td>\n",
       "    </tr>\n",
       "    <tr>\n",
       "      <th>3</th>\n",
       "      <td>56543</td>\n",
       "      <td>70.0</td>\n",
       "      <td>0</td>\n",
       "      <td>0</td>\n",
       "      <td>69.04</td>\n",
       "      <td>35.9</td>\n",
       "      <td>0</td>\n",
       "      <td>174.94</td>\n",
       "      <td>0.986286</td>\n",
       "      <td>0.512857</td>\n",
       "      <td>...</td>\n",
       "      <td>0</td>\n",
       "      <td>0</td>\n",
       "      <td>0</td>\n",
       "      <td>0</td>\n",
       "      <td>0</td>\n",
       "      <td>0</td>\n",
       "      <td>1</td>\n",
       "      <td>0</td>\n",
       "      <td>1</td>\n",
       "      <td>0</td>\n",
       "    </tr>\n",
       "    <tr>\n",
       "      <th>4</th>\n",
       "      <td>46136</td>\n",
       "      <td>14.0</td>\n",
       "      <td>0</td>\n",
       "      <td>0</td>\n",
       "      <td>161.28</td>\n",
       "      <td>19.1</td>\n",
       "      <td>0</td>\n",
       "      <td>194.38</td>\n",
       "      <td>11.520000</td>\n",
       "      <td>1.364286</td>\n",
       "      <td>...</td>\n",
       "      <td>0</td>\n",
       "      <td>0</td>\n",
       "      <td>1</td>\n",
       "      <td>0</td>\n",
       "      <td>1</td>\n",
       "      <td>0</td>\n",
       "      <td>0</td>\n",
       "      <td>0</td>\n",
       "      <td>0</td>\n",
       "      <td>0</td>\n",
       "    </tr>\n",
       "  </tbody>\n",
       "</table>\n",
       "<p>5 rows × 63 columns</p>\n",
       "</div>"
      ],
      "text/plain": [
       "      id   age  hypertension  heart_disease  avg_glucose_level   bmi  stroke  \\\n",
       "0  30669   3.0             0              0              95.12  18.0       0   \n",
       "1  30468  58.0             1              0              87.96  39.2       0   \n",
       "2  16523   8.0             0              0             110.89  17.6       0   \n",
       "3  56543  70.0             0              0              69.04  35.9       0   \n",
       "4  46136  14.0             0              0             161.28  19.1       0   \n",
       "\n",
       "   age_bmi_gulcose  avg_glucose_level_age_ratio  bmi_age_ratio  ...  \\\n",
       "0           116.12                    31.706667       6.000000  ...   \n",
       "1           185.16                     1.516552       0.675862  ...   \n",
       "2           136.49                    13.861250       2.200000  ...   \n",
       "3           174.94                     0.986286       0.512857  ...   \n",
       "4           194.38                    11.520000       1.364286  ...   \n",
       "\n",
       "   smoking_status_never smoked  smoking_status_smokes  \\\n",
       "0                            0                      0   \n",
       "1                            1                      0   \n",
       "2                            0                      0   \n",
       "3                            0                      0   \n",
       "4                            0                      0   \n",
       "\n",
       "   is_diabetic_pre-diabetic  is_diabetic_diabetic  bmi_status_healthy  \\\n",
       "0                         0                     0                   0   \n",
       "1                         0                     0                   0   \n",
       "2                         0                     0                   0   \n",
       "3                         0                     0                   0   \n",
       "4                         1                     0                   1   \n",
       "\n",
       "   bmi_status_overweight  bmi_status_obese  age_range_moderate  age_range_old  \\\n",
       "0                      0                 0                   0              0   \n",
       "1                      0                 1                   0              1   \n",
       "2                      0                 0                   0              0   \n",
       "3                      0                 1                   0              1   \n",
       "4                      0                 0                   0              0   \n",
       "\n",
       "   age_range_very_old  \n",
       "0                   0  \n",
       "1                   0  \n",
       "2                   0  \n",
       "3                   0  \n",
       "4                   0  \n",
       "\n",
       "[5 rows x 63 columns]"
      ]
     },
     "execution_count": 52,
     "metadata": {},
     "output_type": "execute_result"
    }
   ],
   "source": [
    "df.head()"
   ]
  },
  {
   "cell_type": "code",
   "execution_count": 53,
   "metadata": {},
   "outputs": [
    {
     "data": {
      "text/plain": [
       "((43400, 62), (43400,))"
      ]
     },
     "execution_count": 53,
     "metadata": {},
     "output_type": "execute_result"
    }
   ],
   "source": [
    "# seperating independent and dependent variables\n",
    "x = df.drop(['stroke'], axis=1)\n",
    "y = df['stroke']\n",
    "x.shape, y.shape"
   ]
  },
  {
   "cell_type": "code",
   "execution_count": 54,
   "metadata": {},
   "outputs": [],
   "source": [
    "# Importing the train test split function\n",
    "from sklearn.model_selection import train_test_split\n",
    "train_x,test_x,train_y,test_y = train_test_split(x,y, random_state = 56)"
   ]
  },
  {
   "cell_type": "markdown",
   "metadata": {},
   "source": [
    "### Scaling"
   ]
  },
  {
   "cell_type": "code",
   "execution_count": 55,
   "metadata": {},
   "outputs": [],
   "source": [
    "from sklearn.preprocessing import MinMaxScaler\n",
    "scaler = MinMaxScaler()"
   ]
  },
  {
   "cell_type": "code",
   "execution_count": 56,
   "metadata": {},
   "outputs": [],
   "source": [
    "cols = train_x.columns"
   ]
  },
  {
   "cell_type": "code",
   "execution_count": 57,
   "metadata": {},
   "outputs": [
    {
     "data": {
      "text/html": [
       "<div>\n",
       "<style scoped>\n",
       "    .dataframe tbody tr th:only-of-type {\n",
       "        vertical-align: middle;\n",
       "    }\n",
       "\n",
       "    .dataframe tbody tr th {\n",
       "        vertical-align: top;\n",
       "    }\n",
       "\n",
       "    .dataframe thead th {\n",
       "        text-align: right;\n",
       "    }\n",
       "</style>\n",
       "<table border=\"1\" class=\"dataframe\">\n",
       "  <thead>\n",
       "    <tr style=\"text-align: right;\">\n",
       "      <th></th>\n",
       "      <th>id</th>\n",
       "      <th>age</th>\n",
       "      <th>hypertension</th>\n",
       "      <th>heart_disease</th>\n",
       "      <th>avg_glucose_level</th>\n",
       "      <th>bmi</th>\n",
       "      <th>age_bmi_gulcose</th>\n",
       "      <th>avg_glucose_level_age_ratio</th>\n",
       "      <th>bmi_age_ratio</th>\n",
       "      <th>dia_obese</th>\n",
       "      <th>...</th>\n",
       "      <th>smoking_status_never smoked</th>\n",
       "      <th>smoking_status_smokes</th>\n",
       "      <th>is_diabetic_pre-diabetic</th>\n",
       "      <th>is_diabetic_diabetic</th>\n",
       "      <th>bmi_status_healthy</th>\n",
       "      <th>bmi_status_overweight</th>\n",
       "      <th>bmi_status_obese</th>\n",
       "      <th>age_range_moderate</th>\n",
       "      <th>age_range_old</th>\n",
       "      <th>age_range_very_old</th>\n",
       "    </tr>\n",
       "  </thead>\n",
       "  <tbody>\n",
       "    <tr>\n",
       "      <th>0</th>\n",
       "      <td>0.498012</td>\n",
       "      <td>0.426270</td>\n",
       "      <td>0.0</td>\n",
       "      <td>0.0</td>\n",
       "      <td>0.068548</td>\n",
       "      <td>0.121143</td>\n",
       "      <td>0.172198</td>\n",
       "      <td>0.000802</td>\n",
       "      <td>0.001173</td>\n",
       "      <td>0.0</td>\n",
       "      <td>...</td>\n",
       "      <td>1.0</td>\n",
       "      <td>0.0</td>\n",
       "      <td>0.0</td>\n",
       "      <td>0.0</td>\n",
       "      <td>1.0</td>\n",
       "      <td>0.0</td>\n",
       "      <td>0.0</td>\n",
       "      <td>1.0</td>\n",
       "      <td>0.0</td>\n",
       "      <td>0.0</td>\n",
       "    </tr>\n",
       "    <tr>\n",
       "      <th>1</th>\n",
       "      <td>0.309789</td>\n",
       "      <td>0.328613</td>\n",
       "      <td>0.0</td>\n",
       "      <td>0.0</td>\n",
       "      <td>0.125996</td>\n",
       "      <td>0.124571</td>\n",
       "      <td>0.189976</td>\n",
       "      <td>0.001455</td>\n",
       "      <td>0.001660</td>\n",
       "      <td>0.0</td>\n",
       "      <td>...</td>\n",
       "      <td>1.0</td>\n",
       "      <td>0.0</td>\n",
       "      <td>0.0</td>\n",
       "      <td>0.0</td>\n",
       "      <td>1.0</td>\n",
       "      <td>0.0</td>\n",
       "      <td>0.0</td>\n",
       "      <td>0.0</td>\n",
       "      <td>0.0</td>\n",
       "      <td>0.0</td>\n",
       "    </tr>\n",
       "    <tr>\n",
       "      <th>2</th>\n",
       "      <td>0.831793</td>\n",
       "      <td>0.291992</td>\n",
       "      <td>0.0</td>\n",
       "      <td>0.0</td>\n",
       "      <td>0.095450</td>\n",
       "      <td>0.170286</td>\n",
       "      <td>0.171136</td>\n",
       "      <td>0.001509</td>\n",
       "      <td>0.002350</td>\n",
       "      <td>0.0</td>\n",
       "      <td>...</td>\n",
       "      <td>1.0</td>\n",
       "      <td>0.0</td>\n",
       "      <td>0.0</td>\n",
       "      <td>0.0</td>\n",
       "      <td>1.0</td>\n",
       "      <td>0.0</td>\n",
       "      <td>0.0</td>\n",
       "      <td>0.0</td>\n",
       "      <td>0.0</td>\n",
       "      <td>0.0</td>\n",
       "    </tr>\n",
       "    <tr>\n",
       "      <th>3</th>\n",
       "      <td>0.873334</td>\n",
       "      <td>0.389648</td>\n",
       "      <td>0.0</td>\n",
       "      <td>0.0</td>\n",
       "      <td>0.001525</td>\n",
       "      <td>0.244571</td>\n",
       "      <td>0.147867</td>\n",
       "      <td>0.000623</td>\n",
       "      <td>0.002200</td>\n",
       "      <td>0.0</td>\n",
       "      <td>...</td>\n",
       "      <td>1.0</td>\n",
       "      <td>0.0</td>\n",
       "      <td>0.0</td>\n",
       "      <td>0.0</td>\n",
       "      <td>0.0</td>\n",
       "      <td>0.0</td>\n",
       "      <td>1.0</td>\n",
       "      <td>1.0</td>\n",
       "      <td>0.0</td>\n",
       "      <td>0.0</td>\n",
       "    </tr>\n",
       "    <tr>\n",
       "      <th>4</th>\n",
       "      <td>0.807458</td>\n",
       "      <td>0.731445</td>\n",
       "      <td>0.0</td>\n",
       "      <td>0.0</td>\n",
       "      <td>0.635486</td>\n",
       "      <td>0.134857</td>\n",
       "      <td>0.657666</td>\n",
       "      <td>0.001619</td>\n",
       "      <td>0.000581</td>\n",
       "      <td>0.0</td>\n",
       "      <td>...</td>\n",
       "      <td>1.0</td>\n",
       "      <td>0.0</td>\n",
       "      <td>0.0</td>\n",
       "      <td>1.0</td>\n",
       "      <td>1.0</td>\n",
       "      <td>0.0</td>\n",
       "      <td>0.0</td>\n",
       "      <td>0.0</td>\n",
       "      <td>1.0</td>\n",
       "      <td>0.0</td>\n",
       "    </tr>\n",
       "  </tbody>\n",
       "</table>\n",
       "<p>5 rows × 62 columns</p>\n",
       "</div>"
      ],
      "text/plain": [
       "         id       age  hypertension  heart_disease  avg_glucose_level  \\\n",
       "0  0.498012  0.426270           0.0            0.0           0.068548   \n",
       "1  0.309789  0.328613           0.0            0.0           0.125996   \n",
       "2  0.831793  0.291992           0.0            0.0           0.095450   \n",
       "3  0.873334  0.389648           0.0            0.0           0.001525   \n",
       "4  0.807458  0.731445           0.0            0.0           0.635486   \n",
       "\n",
       "        bmi  age_bmi_gulcose  avg_glucose_level_age_ratio  bmi_age_ratio  \\\n",
       "0  0.121143         0.172198                     0.000802       0.001173   \n",
       "1  0.124571         0.189976                     0.001455       0.001660   \n",
       "2  0.170286         0.171136                     0.001509       0.002350   \n",
       "3  0.244571         0.147867                     0.000623       0.002200   \n",
       "4  0.134857         0.657666                     0.001619       0.000581   \n",
       "\n",
       "   dia_obese  ...  smoking_status_never smoked  smoking_status_smokes  \\\n",
       "0        0.0  ...                          1.0                    0.0   \n",
       "1        0.0  ...                          1.0                    0.0   \n",
       "2        0.0  ...                          1.0                    0.0   \n",
       "3        0.0  ...                          1.0                    0.0   \n",
       "4        0.0  ...                          1.0                    0.0   \n",
       "\n",
       "   is_diabetic_pre-diabetic  is_diabetic_diabetic  bmi_status_healthy  \\\n",
       "0                       0.0                   0.0                 1.0   \n",
       "1                       0.0                   0.0                 1.0   \n",
       "2                       0.0                   0.0                 1.0   \n",
       "3                       0.0                   0.0                 0.0   \n",
       "4                       0.0                   1.0                 1.0   \n",
       "\n",
       "   bmi_status_overweight  bmi_status_obese  age_range_moderate  age_range_old  \\\n",
       "0                    0.0               0.0                 1.0            0.0   \n",
       "1                    0.0               0.0                 0.0            0.0   \n",
       "2                    0.0               0.0                 0.0            0.0   \n",
       "3                    0.0               1.0                 1.0            0.0   \n",
       "4                    0.0               0.0                 0.0            1.0   \n",
       "\n",
       "   age_range_very_old  \n",
       "0                 0.0  \n",
       "1                 0.0  \n",
       "2                 0.0  \n",
       "3                 0.0  \n",
       "4                 0.0  \n",
       "\n",
       "[5 rows x 62 columns]"
      ]
     },
     "execution_count": 57,
     "metadata": {},
     "output_type": "execute_result"
    }
   ],
   "source": [
    "train_x_scaled = scaler.fit_transform(train_x)\n",
    "train_x_scaled = pd.DataFrame(train_x_scaled, columns=cols)\n",
    "train_x_scaled.head()"
   ]
  },
  {
   "cell_type": "code",
   "execution_count": 58,
   "metadata": {},
   "outputs": [],
   "source": [
    "cols = test_x.columns"
   ]
  },
  {
   "cell_type": "code",
   "execution_count": 59,
   "metadata": {},
   "outputs": [
    {
     "data": {
      "text/html": [
       "<div>\n",
       "<style scoped>\n",
       "    .dataframe tbody tr th:only-of-type {\n",
       "        vertical-align: middle;\n",
       "    }\n",
       "\n",
       "    .dataframe tbody tr th {\n",
       "        vertical-align: top;\n",
       "    }\n",
       "\n",
       "    .dataframe thead th {\n",
       "        text-align: right;\n",
       "    }\n",
       "</style>\n",
       "<table border=\"1\" class=\"dataframe\">\n",
       "  <thead>\n",
       "    <tr style=\"text-align: right;\">\n",
       "      <th></th>\n",
       "      <th>id</th>\n",
       "      <th>age</th>\n",
       "      <th>hypertension</th>\n",
       "      <th>heart_disease</th>\n",
       "      <th>avg_glucose_level</th>\n",
       "      <th>bmi</th>\n",
       "      <th>age_bmi_gulcose</th>\n",
       "      <th>avg_glucose_level_age_ratio</th>\n",
       "      <th>bmi_age_ratio</th>\n",
       "      <th>dia_obese</th>\n",
       "      <th>...</th>\n",
       "      <th>smoking_status_never smoked</th>\n",
       "      <th>smoking_status_smokes</th>\n",
       "      <th>is_diabetic_pre-diabetic</th>\n",
       "      <th>is_diabetic_diabetic</th>\n",
       "      <th>bmi_status_healthy</th>\n",
       "      <th>bmi_status_overweight</th>\n",
       "      <th>bmi_status_obese</th>\n",
       "      <th>age_range_moderate</th>\n",
       "      <th>age_range_old</th>\n",
       "      <th>age_range_very_old</th>\n",
       "    </tr>\n",
       "  </thead>\n",
       "  <tbody>\n",
       "    <tr>\n",
       "      <th>0</th>\n",
       "      <td>0.962583</td>\n",
       "      <td>0.816895</td>\n",
       "      <td>0.0</td>\n",
       "      <td>0.0</td>\n",
       "      <td>0.556821</td>\n",
       "      <td>0.575758</td>\n",
       "      <td>0.747656</td>\n",
       "      <td>0.001163</td>\n",
       "      <td>0.003309</td>\n",
       "      <td>0.0</td>\n",
       "      <td>...</td>\n",
       "      <td>0.0</td>\n",
       "      <td>0.0</td>\n",
       "      <td>1.0</td>\n",
       "      <td>0.0</td>\n",
       "      <td>0.0</td>\n",
       "      <td>0.0</td>\n",
       "      <td>1.0</td>\n",
       "      <td>0.0</td>\n",
       "      <td>1.0</td>\n",
       "      <td>0.0</td>\n",
       "    </tr>\n",
       "    <tr>\n",
       "      <th>1</th>\n",
       "      <td>0.425179</td>\n",
       "      <td>0.682617</td>\n",
       "      <td>0.0</td>\n",
       "      <td>0.0</td>\n",
       "      <td>0.172956</td>\n",
       "      <td>0.179487</td>\n",
       "      <td>0.328099</td>\n",
       "      <td>0.000578</td>\n",
       "      <td>0.001262</td>\n",
       "      <td>0.0</td>\n",
       "      <td>...</td>\n",
       "      <td>1.0</td>\n",
       "      <td>0.0</td>\n",
       "      <td>0.0</td>\n",
       "      <td>0.0</td>\n",
       "      <td>0.0</td>\n",
       "      <td>1.0</td>\n",
       "      <td>0.0</td>\n",
       "      <td>0.0</td>\n",
       "      <td>1.0</td>\n",
       "      <td>0.0</td>\n",
       "    </tr>\n",
       "    <tr>\n",
       "      <th>2</th>\n",
       "      <td>0.892314</td>\n",
       "      <td>0.414062</td>\n",
       "      <td>0.0</td>\n",
       "      <td>0.0</td>\n",
       "      <td>0.356459</td>\n",
       "      <td>0.265734</td>\n",
       "      <td>0.413867</td>\n",
       "      <td>0.001902</td>\n",
       "      <td>0.003700</td>\n",
       "      <td>0.0</td>\n",
       "      <td>...</td>\n",
       "      <td>0.0</td>\n",
       "      <td>0.0</td>\n",
       "      <td>0.0</td>\n",
       "      <td>0.0</td>\n",
       "      <td>0.0</td>\n",
       "      <td>0.0</td>\n",
       "      <td>1.0</td>\n",
       "      <td>1.0</td>\n",
       "      <td>0.0</td>\n",
       "      <td>0.0</td>\n",
       "    </tr>\n",
       "    <tr>\n",
       "      <th>3</th>\n",
       "      <td>0.160652</td>\n",
       "      <td>0.597168</td>\n",
       "      <td>0.0</td>\n",
       "      <td>0.0</td>\n",
       "      <td>0.127278</td>\n",
       "      <td>0.104895</td>\n",
       "      <td>0.252599</td>\n",
       "      <td>0.000594</td>\n",
       "      <td>0.000954</td>\n",
       "      <td>0.0</td>\n",
       "      <td>...</td>\n",
       "      <td>0.0</td>\n",
       "      <td>0.0</td>\n",
       "      <td>0.0</td>\n",
       "      <td>0.0</td>\n",
       "      <td>1.0</td>\n",
       "      <td>0.0</td>\n",
       "      <td>0.0</td>\n",
       "      <td>1.0</td>\n",
       "      <td>0.0</td>\n",
       "      <td>0.0</td>\n",
       "    </tr>\n",
       "    <tr>\n",
       "      <th>4</th>\n",
       "      <td>0.845902</td>\n",
       "      <td>0.560547</td>\n",
       "      <td>0.0</td>\n",
       "      <td>0.0</td>\n",
       "      <td>0.247584</td>\n",
       "      <td>0.311189</td>\n",
       "      <td>0.385987</td>\n",
       "      <td>0.000998</td>\n",
       "      <td>0.002899</td>\n",
       "      <td>0.0</td>\n",
       "      <td>...</td>\n",
       "      <td>0.0</td>\n",
       "      <td>0.0</td>\n",
       "      <td>0.0</td>\n",
       "      <td>0.0</td>\n",
       "      <td>0.0</td>\n",
       "      <td>0.0</td>\n",
       "      <td>1.0</td>\n",
       "      <td>1.0</td>\n",
       "      <td>0.0</td>\n",
       "      <td>0.0</td>\n",
       "    </tr>\n",
       "  </tbody>\n",
       "</table>\n",
       "<p>5 rows × 62 columns</p>\n",
       "</div>"
      ],
      "text/plain": [
       "         id       age  hypertension  heart_disease  avg_glucose_level  \\\n",
       "0  0.962583  0.816895           0.0            0.0           0.556821   \n",
       "1  0.425179  0.682617           0.0            0.0           0.172956   \n",
       "2  0.892314  0.414062           0.0            0.0           0.356459   \n",
       "3  0.160652  0.597168           0.0            0.0           0.127278   \n",
       "4  0.845902  0.560547           0.0            0.0           0.247584   \n",
       "\n",
       "        bmi  age_bmi_gulcose  avg_glucose_level_age_ratio  bmi_age_ratio  \\\n",
       "0  0.575758         0.747656                     0.001163       0.003309   \n",
       "1  0.179487         0.328099                     0.000578       0.001262   \n",
       "2  0.265734         0.413867                     0.001902       0.003700   \n",
       "3  0.104895         0.252599                     0.000594       0.000954   \n",
       "4  0.311189         0.385987                     0.000998       0.002899   \n",
       "\n",
       "   dia_obese  ...  smoking_status_never smoked  smoking_status_smokes  \\\n",
       "0        0.0  ...                          0.0                    0.0   \n",
       "1        0.0  ...                          1.0                    0.0   \n",
       "2        0.0  ...                          0.0                    0.0   \n",
       "3        0.0  ...                          0.0                    0.0   \n",
       "4        0.0  ...                          0.0                    0.0   \n",
       "\n",
       "   is_diabetic_pre-diabetic  is_diabetic_diabetic  bmi_status_healthy  \\\n",
       "0                       1.0                   0.0                 0.0   \n",
       "1                       0.0                   0.0                 0.0   \n",
       "2                       0.0                   0.0                 0.0   \n",
       "3                       0.0                   0.0                 1.0   \n",
       "4                       0.0                   0.0                 0.0   \n",
       "\n",
       "   bmi_status_overweight  bmi_status_obese  age_range_moderate  age_range_old  \\\n",
       "0                    0.0               1.0                 0.0            1.0   \n",
       "1                    1.0               0.0                 0.0            1.0   \n",
       "2                    0.0               1.0                 1.0            0.0   \n",
       "3                    0.0               0.0                 1.0            0.0   \n",
       "4                    0.0               1.0                 1.0            0.0   \n",
       "\n",
       "   age_range_very_old  \n",
       "0                 0.0  \n",
       "1                 0.0  \n",
       "2                 0.0  \n",
       "3                 0.0  \n",
       "4                 0.0  \n",
       "\n",
       "[5 rows x 62 columns]"
      ]
     },
     "execution_count": 59,
     "metadata": {},
     "output_type": "execute_result"
    }
   ],
   "source": [
    "test_x_scaled = scaler.fit_transform(test_x)\n",
    "test_x_scaled = pd.DataFrame(test_x_scaled, columns=cols)\n",
    "test_x_scaled.head()"
   ]
  }
 ],
 "metadata": {
  "kernelspec": {
   "display_name": "Python 3",
   "language": "python",
   "name": "python3"
  },
  "language_info": {
   "codemirror_mode": {
    "name": "ipython",
    "version": 3
   },
   "file_extension": ".py",
   "mimetype": "text/x-python",
   "name": "python",
   "nbconvert_exporter": "python",
   "pygments_lexer": "ipython3",
   "version": "3.7.6"
  }
 },
 "nbformat": 4,
 "nbformat_minor": 4
}
